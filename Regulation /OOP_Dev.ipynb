{
 "cells": [
  {
   "cell_type": "code",
   "execution_count": 17,
   "metadata": {},
   "outputs": [
    {
     "name": "stdout",
     "output_type": "stream",
     "text": [
      "Nom(Jatsa) prenom(Steve) age(29)\n"
     ]
    }
   ],
   "source": [
    "class Personne():\n",
    "    def __init__(self, nom, prenom, age):\n",
    "        self.nom = nom\n",
    "        self.prenom = prenom\n",
    "        self.age = age\n",
    "        \n",
    "    def __repr__(self):\n",
    "        return f\"Nom({self.nom}) prenom({self.prenom}) age({self.age})\"\n",
    "\n",
    "\n",
    "    # def __setattr__(self, name, value):\n",
    "    #     object.__setattr__(self, \"nom\", \"Karl\")\n",
    "        \n",
    "        \n",
    "\n",
    "persone = Personne(\"Jatsa\", \"Steve\", 29)   \n",
    "print(persone) \n"
   ]
  },
  {
   "cell_type": "code",
   "execution_count": 8,
   "metadata": {},
   "outputs": [
    {
     "name": "stdout",
     "output_type": "stream",
     "text": [
      "03:04\n",
      "07:08\n"
     ]
    }
   ],
   "source": [
    "class Duree():\n",
    "    def __init__(self, minutes=0, secondes=0):\n",
    "        self.minutes = minutes\n",
    "        self.secondes = secondes\n",
    "        \n",
    "    def __str__(self):\n",
    "        return f\"{self.minutes:02}:{self.secondes:02}\"\n",
    "    \n",
    "    def __radd__(self, other):\n",
    "        self.minutes += other\n",
    "        self.secondes += other\n",
    "    def __add__(self, other):\n",
    "        self.minutes += other\n",
    "        self.secondes += other\n",
    "    \n",
    "\n",
    "\n",
    "d1 = Duree(3, 4)\n",
    "print(d1)\n",
    "d1 + 4\n",
    "print(d1)"
   ]
  },
  {
   "cell_type": "code",
   "execution_count": 3,
   "metadata": {},
   "outputs": [
    {
     "name": "stdout",
     "output_type": "stream",
     "text": [
      "r\n",
      "u\n",
      "o\n",
      "j\n",
      "n\n",
      "o\n",
      "B\n"
     ]
    }
   ],
   "source": [
    "class RevStr(str):\n",
    "    \n",
    "    def __init__(self, chaîne_à_parcourir):\n",
    "        self.chaîne_à_parcourir = chaîne_à_parcourir\n",
    "        \n",
    "    def __iter__(self):\n",
    "        return ItRevStr(self.chaîne_à_parcourir)\n",
    "    \n",
    "class ItRevStr:\n",
    " \n",
    "    def __init__(self, chaîne_à_parcourir):\n",
    "        self.chaîne_à_parcourir = chaîne_à_parcourir\n",
    "        self.position = len(chaîne_à_parcourir)\n",
    "        \n",
    "    def __next__(self):\n",
    "        if self.position == 0: # Fin du parcours\n",
    "            raise StopIteration\n",
    "\n",
    "        self.position -= 1 # On décrémente la position\n",
    "        return self.chaîne_à_parcourir[self.position]\n",
    "    \n",
    "ma_chaîne = RevStr(\"Bonjour\")\n",
    "for l in ma_chaîne:\n",
    "    print(l)"
   ]
  }
 ],
 "metadata": {
  "kernelspec": {
   "display_name": "Python 3.10.6 64-bit",
   "language": "python",
   "name": "python3"
  },
  "language_info": {
   "codemirror_mode": {
    "name": "ipython",
    "version": 3
   },
   "file_extension": ".py",
   "mimetype": "text/x-python",
   "name": "python",
   "nbconvert_exporter": "python",
   "pygments_lexer": "ipython3",
   "version": "3.10.6"
  },
  "orig_nbformat": 4,
  "vscode": {
   "interpreter": {
    "hash": "916dbcbb3f70747c44a77c7bcd40155683ae19c65e1c03b4aa3499c5328201f1"
   }
  }
 },
 "nbformat": 4,
 "nbformat_minor": 2
}
