{
 "cells": [
  {
   "cell_type": "code",
   "execution_count": 1,
   "metadata": {},
   "outputs": [],
   "source": [
    "import requests\n"
   ]
  },
  {
   "cell_type": "code",
   "execution_count": 1,
   "metadata": {},
   "outputs": [
    {
     "name": "stderr",
     "output_type": "stream",
     "text": [
      "100%|██████████| 2531/2531 [04:18<00:00,  9.78it/s]\n"
     ]
    }
   ],
   "source": [
    "# first\n",
    "import requests\n",
    "import concurrent.futures # to run multiple tasks in parallel\n",
    "from tqdm import tqdm\n",
    "\n",
    "def get_valid_domains(file_name, new_file_name):\n",
    "    \"\"\"Function definition for extracting valid domain names\n",
    "\n",
    "    Args:\n",
    "        file_name (str): file containing all domain names\n",
    "        new_file_name (str): file containing the result of the filter i.e. the valid urls\n",
    "    \"\"\"\n",
    "    \n",
    "    valid_domains = set() # to store valid domain names\n",
    "    with open(file_name) as f:\n",
    "        for line in f:\n",
    "            line = line.strip() # Remove white space at the beginning and end of a line\n",
    "            if line.startswith('www.') or line.count('.') == 1:\n",
    "                domain = f\"https://{line}\" # Add the prefix 'https://\n",
    "                valid_domains.add(domain)\n",
    "\n",
    "    total_domains = len(valid_domains)\n",
    "    with open(new_file_name, 'w') as f:\n",
    "        # Create an execution pool to run tasks in parallel\n",
    "        with concurrent.futures.ThreadPoolExecutor(max_workers=20) as executor:\n",
    "            # Submit each domain name to the test_domain function to check if it is valid\n",
    "            futures = [executor.submit(test_domain, domain) for domain in valid_domains]\n",
    "            with tqdm(total=total_domains) as pbar: # Create a progress bar\n",
    "                for future in concurrent.futures.as_completed(futures): \n",
    "                    if valid_domain := future.result(): # Write valid domain names to a new file\n",
    "                        f.write(valid_domain + '\\n')\n",
    "                    pbar.update() # Update the progress bar to reflect progress\n",
    "                    \n",
    "def test_domain(domain):  \n",
    "    \"\"\"Definition of the function to test the validity of the domain name\n",
    "\n",
    "    Args:\n",
    "        domain (str): domain name\n",
    "\n",
    "    Returns:\n",
    "        str: valid domain name\n",
    "    \"\"\"\n",
    "    \n",
    "    if domain.startswith('https://www.'):\n",
    "        return domain\n",
    "    try:\n",
    "        with requests.head(domain, timeout=5) as response: \n",
    "            if response.status_code == 200:\n",
    "                return domain\n",
    "    except Exception:\n",
    "        pass\n",
    "\n",
    "if __name__ == '__main__':\n",
    "    get_valid_domains('news.txt', 'urls_news.txt')\n"
   ]
  },
  {
   "cell_type": "code",
   "execution_count": 1,
   "metadata": {},
   "outputs": [
    {
     "name": "stderr",
     "output_type": "stream",
     "text": [
      "100%|██████████| 544546/544546 [13:11:28<00:00, 11.47it/s]   \n"
     ]
    }
   ],
   "source": [
    "# update\n",
    "\n",
    "import requests\n",
    "import concurrent.futures \n",
    "from tqdm import tqdm \n",
    "import json\n",
    "\n",
    "def get_valid_domains(file_name, new_file_name):\n",
    "    \"\"\"(Update)Function definition for extracting valid domain names\n",
    "\n",
    "    Args:\n",
    "        file_name (str): file containing all domain names\n",
    "        new_file_name (str): file containing the result of the filter i.e. the valid urls\n",
    "    \"\"\"\n",
    "\n",
    "    # Open the file containing the domain names and extract the information\n",
    "    liste_domaines = []\n",
    "    with open(file_name, \"r\") as f:\n",
    "        lignes = f.read().split(\"\\n\")[2:1185697] # We start reading from the 3rd line\n",
    "        for ligne in lignes:\n",
    "            colonnes = ligne.split(\"|\")\n",
    "            name = colonnes[0].strip()\n",
    "            category = colonnes[1].strip()\n",
    "            address = colonnes[2].strip()\n",
    "            dictionnaire = {\"name\": name, \"category\": category, \"address\": address}\n",
    "            liste_domaines.append(dictionnaire)\n",
    "\n",
    "    # Filter valid domain names from the extracted list\n",
    "    valid_domains = [d for d in liste_domaines if d['address'].startswith('www.') or d['address'].count('.') == 1]\n",
    "\n",
    "    \n",
    "    total_domains = len(valid_domains)\n",
    "    with open(new_file_name, 'w') as f:\n",
    "        # Create an execution pool to run tasks in parallel\n",
    "        with concurrent.futures.ThreadPoolExecutor(max_workers=20) as executor:\n",
    "            # Submit each domain name to the test_domain function to check if it is valid\n",
    "            futures = [executor.submit(test_domain, domain['address']) for domain in valid_domains]\n",
    "            with tqdm(total=total_domains) as pbar: # Create a progress bar\n",
    "                for future in concurrent.futures.as_completed(futures): \n",
    "                    if result := future.result():\n",
    "                        for d in valid_domains:\n",
    "                            if d['address'] == result:\n",
    "                                # add 'https://' if the domain does not start with 'https://'\n",
    "                                if not result.startswith('https://'):\n",
    "                                    result = f'https://{result}'\n",
    "                                # write the results to the file in json format\n",
    "                                json.dump({\"name\": d['name'], \"category\": d['category'], \"address\": result}, f)\n",
    "                                f.write('\\n')\n",
    "                    pbar.update() \n",
    "\n",
    "                    \n",
    "def test_domain(domain):  \n",
    "    \"\"\"Definition of the function to test the validity of the domain name\n",
    "\n",
    "    Args:\n",
    "        domain (str): domain name\n",
    "\n",
    "    Returns:\n",
    "        str: valid domain name\n",
    "    \"\"\"\n",
    "    \n",
    "    # Check if the domain name starts with 'https://www.' and return it if it is valid\n",
    "    if domain.startswith('https://www.'):\n",
    "        return domain\n",
    "    # Otherwise, test the validity of the domain name by making an HTTP HEAD request\n",
    "    try:\n",
    "        with requests.head(f\"https://{domain}\", timeout=5) as response: \n",
    "            if response.status_code == 200:\n",
    "                return domain\n",
    "    except Exception:\n",
    "        pass\n",
    "\n",
    "if __name__ == '__main__':\n",
    "    get_valid_domains('domaine.txt', 'urls_valid.txt')"
   ]
  }
 ],
 "metadata": {
  "kernelspec": {
   "display_name": "Python 3.10.6 64-bit",
   "language": "python",
   "name": "python3"
  },
  "language_info": {
   "codemirror_mode": {
    "name": "ipython",
    "version": 3
   },
   "file_extension": ".py",
   "mimetype": "text/x-python",
   "name": "python",
   "nbconvert_exporter": "python",
   "pygments_lexer": "ipython3",
   "version": "3.10.6"
  },
  "orig_nbformat": 4,
  "vscode": {
   "interpreter": {
    "hash": "916dbcbb3f70747c44a77c7bcd40155683ae19c65e1c03b4aa3499c5328201f1"
   }
  }
 },
 "nbformat": 4,
 "nbformat_minor": 2
}
