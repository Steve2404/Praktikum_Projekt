{
 "cells": [
  {
   "cell_type": "code",
   "execution_count": 2,
   "metadata": {},
   "outputs": [],
   "source": [
    "from bs4 import BeautifulSoup\n",
    "import pprint\n",
    "import requests\n",
    "import re\n",
    "import bs4\n"
   ]
  },
  {
   "cell_type": "code",
   "execution_count": 58,
   "metadata": {},
   "outputs": [],
   "source": [
    "def fun_url(url):\n",
    "    if not url_test(url):\n",
    "        url = reformat_url(url)\n",
    "    url = url_add_http(url)\n",
    "    return url"
   ]
  },
  {
   "cell_type": "code",
   "execution_count": 110,
   "metadata": {},
   "outputs": [
    {
     "name": "stdout",
     "output_type": "stream",
     "text": [
      "https://prweb.com\n"
     ]
    }
   ],
   "source": [
    "url = fun_url(\"ww1.prweb.com\")\n",
    "print(url)"
   ]
  },
  {
   "cell_type": "code",
   "execution_count": 103,
   "metadata": {},
   "outputs": [],
   "source": [
    "def url_test(url):\n",
    "    headers = {\n",
    "    \"User-Agent\": \"Mozilla/5.0 (X11; Ubuntu; Linux x86_64; rv:109.0) Gecko/20100101 Firefox/109.0\"}\n",
    "\n",
    "    # increase of max_redirect\n",
    "    #session = requests.Session()\n",
    "    #session.max_redirects = 100000000000\n",
    "    try:\n",
    "        url = url_add_http(url)\n",
    "        response = requests.get(url, timeout=60, headers= headers)\n",
    "    except Exception:\n",
    "        response = requests.get(url, timeout=60, headers= headers, allow_redirects=False)\n",
    "\n",
    "\n",
    "\n",
    "    return response.status_code == 200"
   ]
  },
  {
   "cell_type": "code",
   "execution_count": 104,
   "metadata": {},
   "outputs": [
    {
     "data": {
      "text/plain": [
       "False"
      ]
     },
     "execution_count": 104,
     "metadata": {},
     "output_type": "execute_result"
    }
   ],
   "source": [
    "url_test(\"frontend-next.sportdaten.t-online.de\")"
   ]
  },
  {
   "cell_type": "code",
   "execution_count": 20,
   "metadata": {},
   "outputs": [],
   "source": [
    "def url_add_http(url):\n",
    "    string_r = r\"^(https://)\"\n",
    "    string_e = re.compile(string_r)\n",
    "    if not string_e.search(url):\n",
    "        url = f\"https://{url}\"\n",
    "    return url"
   ]
  },
  {
   "cell_type": "code",
   "execution_count": 27,
   "metadata": {},
   "outputs": [],
   "source": [
    "def reformat_url(url):\n",
    "    url_split = url.split(\".\")\n",
    "    return f\"{url_split[-2]}.{url_split[-1]}\""
   ]
  },
  {
   "cell_type": "code",
   "execution_count": 42,
   "metadata": {},
   "outputs": [
    {
     "name": "stdout",
     "output_type": "stream",
     "text": [
      "yahoo.net\n"
     ]
    }
   ],
   "source": [
    "url = reformat_url(\"dns-dv6irbpf1.sombrero.yahoo.net\")\n",
    "print(url)"
   ]
  },
  {
   "cell_type": "code",
   "execution_count": 41,
   "metadata": {},
   "outputs": [
    {
     "name": "stdout",
     "output_type": "stream",
     "text": [
      "https://dns-dv6irbpf1.sombrero.yahoo.net\n"
     ]
    }
   ],
   "source": [
    "url = url_add_http(\"dns-dv6irbpf1.sombrero.yahoo.net\")\n",
    "print(url)"
   ]
  }
 ],
 "metadata": {
  "kernelspec": {
   "display_name": "Python 3.10.6 64-bit",
   "language": "python",
   "name": "python3"
  },
  "language_info": {
   "codemirror_mode": {
    "name": "ipython",
    "version": 3
   },
   "file_extension": ".py",
   "mimetype": "text/x-python",
   "name": "python",
   "nbconvert_exporter": "python",
   "pygments_lexer": "ipython3",
   "version": "3.10.6"
  },
  "orig_nbformat": 4,
  "vscode": {
   "interpreter": {
    "hash": "916dbcbb3f70747c44a77c7bcd40155683ae19c65e1c03b4aa3499c5328201f1"
   }
  }
 },
 "nbformat": 4,
 "nbformat_minor": 2
}
