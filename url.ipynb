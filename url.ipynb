{
 "cells": [
  {
   "cell_type": "code",
   "execution_count": 2,
   "metadata": {},
   "outputs": [],
   "source": [
    "from bs4 import BeautifulSoup\n",
    "import requests\n",
    "import re"
   ]
  },
  {
   "cell_type": "code",
   "execution_count": 3,
   "metadata": {},
   "outputs": [],
   "source": [
    "def url_add_http(url):\n",
    "    \"\"\" \n",
    "    Add https:// on url if it does not contain one\n",
    "    \"\"\"\n",
    "    string_r = r\"^(https://)\"\n",
    "    string_e = re.compile(string_r)\n",
    "    if not string_e.search(url):\n",
    "        url = f\"https://{url}\"\n",
    "    return url"
   ]
  },
  {
   "cell_type": "code",
   "execution_count": 36,
   "metadata": {},
   "outputs": [],
   "source": [
    "def url_test(url):\n",
    "    \"\"\" Allows to test a url and to know if url has a status code of 200 \"\"\"\n",
    "    \n",
    "    # msg of redirection\n",
    "    redi_text = \"If you are not redirected automatically, follow the www.ioam.de\"\n",
    "    \n",
    "    headers = {\n",
    "    \"User-Agent\": \"Mozilla/5.0 (X11; Ubuntu; Linux x86_64; rv:109.0) Gecko/20100101 Firefox/109.0\"}\n",
    "\n",
    "    # increase of max_redirect\n",
    "    #session = requests.Session()\n",
    "    #session.max_redirects = 100000000000\n",
    "    try:\n",
    "        url = url_add_http(url)\n",
    "        response = requests.get(url, timeout=60, headers= headers)\n",
    "    except Exception:\n",
    "        # if max_redirects has been exceeded\n",
    "        response = requests.get(url, timeout=60, headers= headers, allow_redirects=False)\n",
    "    \n",
    "    # if the page content contains a redirection message to another site    \n",
    "    soup = BeautifulSoup(response.text, \"html.parser\")\n",
    "    tags = soup.find_all(\"body\")\n",
    "    header = soup.find_all(\"head\")\n",
    "    content = [\" \".join(tag.stripped_strings) for tag in tags]\n",
    "    content = \" \".join(content).split(\" \")[:-1]\n",
    "    redi_text = redi_text.split(\" \")[:-1]\n",
    "\n",
    "    return set(content) != set(redi_text) and response.status_code == 200 and header != []"
   ]
  },
  {
   "cell_type": "code",
   "execution_count": 26,
   "metadata": {},
   "outputs": [
    {
     "data": {
      "text/plain": [
       "False"
      ]
     },
     "execution_count": 26,
     "metadata": {},
     "output_type": "execute_result"
    }
   ],
   "source": [
    "url_test(\"static.nrk.no\")"
   ]
  },
  {
   "cell_type": "code",
   "execution_count": 6,
   "metadata": {},
   "outputs": [],
   "source": [
    "def reformat_url(url):\n",
    "    \"\"\" reformat the domain name to get base url\"\"\"\n",
    "    url_split = url.split(\".\")\n",
    "    return f\"{url_split[-2]}.{url_split[-1]}\""
   ]
  },
  {
   "cell_type": "code",
   "execution_count": 7,
   "metadata": {},
   "outputs": [],
   "source": [
    "def get_url(url):\n",
    "    \"\"\" get url with which the page content will be parsed \"\"\"\n",
    "    if not url_test(url):\n",
    "        url = reformat_url(url)\n",
    "    url = url_add_http(url)\n",
    "    return url"
   ]
  },
  {
   "cell_type": "code",
   "execution_count": 37,
   "metadata": {},
   "outputs": [
    {
     "name": "stdout",
     "output_type": "stream",
     "text": [
      "https://zeenews.com\n"
     ]
    }
   ],
   "source": [
    "name = \"english.cdn.zeenews.com\"\n",
    "url = get_url(name)\n",
    "print(url)"
   ]
  }
 ],
 "metadata": {
  "kernelspec": {
   "display_name": "Python 3.10.6 64-bit",
   "language": "python",
   "name": "python3"
  },
  "language_info": {
   "codemirror_mode": {
    "name": "ipython",
    "version": 3
   },
   "file_extension": ".py",
   "mimetype": "text/x-python",
   "name": "python",
   "nbconvert_exporter": "python",
   "pygments_lexer": "ipython3",
   "version": "3.10.6"
  },
  "orig_nbformat": 4,
  "vscode": {
   "interpreter": {
    "hash": "916dbcbb3f70747c44a77c7bcd40155683ae19c65e1c03b4aa3499c5328201f1"
   }
  }
 },
 "nbformat": 4,
 "nbformat_minor": 2
}
