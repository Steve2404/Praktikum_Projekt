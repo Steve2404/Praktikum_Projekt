{
 "cells": [
  {
   "cell_type": "code",
   "execution_count": 1,
   "metadata": {},
   "outputs": [],
   "source": [
    "from bs4 import BeautifulSoup\n",
    "import requests\n",
    "import re"
   ]
  },
  {
   "cell_type": "code",
   "execution_count": 2,
   "metadata": {},
   "outputs": [],
   "source": [
    "def url_add_http(url):\n",
    "    \"\"\" \n",
    "    Add https:// on url if it does not contain one\n",
    "    \"\"\"\n",
    "    string_r = r\"^(https://)\"\n",
    "    string_e = re.compile(string_r)\n",
    "    if not string_e.search(url):\n",
    "        url = f\"https://{url}\"\n",
    "    return url"
   ]
  },
  {
   "cell_type": "code",
   "execution_count": 4,
   "metadata": {},
   "outputs": [],
   "source": [
    "def url_test(url):\n",
    "    \"\"\" Allows to test a url and to know if url has a status code of 200 \"\"\"\n",
    "    \n",
    "    # msg of redirection\n",
    "    redi_text = \"If you are not redirected automatically, follow the www.ioam.de\"\n",
    "    \n",
    "    headers = {\n",
    "    \"User-Agent\": \"Mozilla/5.0 (X11; Ubuntu; Linux x86_64; rv:109.0) Gecko/20100101 Firefox/109.0\"}\n",
    "\n",
    "    # increase of max_redirect\n",
    "    #session = requests.Session()\n",
    "    #session.max_redirects = 100000000000\n",
    "    try:\n",
    "        url = url_add_http(url)\n",
    "        response = requests.get(url, timeout=60, headers= headers)\n",
    "    except Exception:\n",
    "        # if max_redirects has been exceeded\n",
    "        response = requests.get(url, timeout=60, headers= headers, allow_redirects=False)\n",
    "    \n",
    "    # if the page content contains a redirection message to another site    \n",
    "    soup = BeautifulSoup(response.text, \"html.parser\")\n",
    "    tags = soup.find_all(\"body\")\n",
    "    header = soup.find_all(\"head\")\n",
    "    content = [\" \".join(tag.stripped_strings) for tag in tags]\n",
    "    content = \" \".join(content).split(\" \")[:-1]\n",
    "    redi_text = redi_text.split(\" \")[:-1]\n",
    "\n",
    "    return set(content) != set(redi_text) and response.status_code == 200 and header != []"
   ]
  },
  {
   "cell_type": "code",
   "execution_count": 3,
   "metadata": {},
   "outputs": [],
   "source": [
    "def reformat_url(url):\n",
    "    \"\"\" reformat the domain name to get base url\"\"\"\n",
    "    url_split = url.split(\".\")\n",
    "    return f\"{url_split[-2]}.{url_split[-1]}\""
   ]
  },
  {
   "cell_type": "code",
   "execution_count": 4,
   "metadata": {},
   "outputs": [],
   "source": [
    "def get_url(url):\n",
    "    \"\"\" get url with which the page content will be parsed \"\"\"\n",
    "    if not url_test(url):\n",
    "        url = reformat_url(url)\n",
    "    url = url_add_http(url)\n",
    "    return url"
   ]
  },
  {
   "cell_type": "code",
   "execution_count": 1,
   "metadata": {},
   "outputs": [
    {
     "name": "stderr",
     "output_type": "stream",
     "text": [
      "100%|██████████| 2531/2531 [04:18<00:00,  9.78it/s]\n"
     ]
    }
   ],
   "source": [
    "import requests\n",
    "import concurrent.futures # pour exécuter plusieurs tâches en parallèle\n",
    "from tqdm import tqdm\n",
    "\n",
    "def get_valid_domains(file_name, new_file_name):\n",
    "    '''Définition de la fonction pour extraire les noms de domaine valides'''\n",
    "    \n",
    "    valid_domains = set() # pour stocker les noms de domaine valides\n",
    "    with open(file_name) as f:\n",
    "        for line in f:\n",
    "            line = line.strip() # Supprimer les espaces blancs en début et fin de ligne\n",
    "            if line.startswith('www.') or line.count('.') == 1:\n",
    "                domain = f\"https://{line}\" # Ajouter le préfixe 'https://\n",
    "                valid_domains.add(domain)\n",
    "\n",
    "    total_domains = len(valid_domains)\n",
    "    with open(new_file_name, 'w') as f:\n",
    "        # Créer un pool d'exécution pour exécuter les tâches en parallèle\n",
    "        with concurrent.futures.ThreadPoolExecutor(max_workers=20) as executor:\n",
    "            # Soumettre chaque nom de domaine à la fonction test_domain pour vérifier s'il est valide\n",
    "            futures = [executor.submit(test_domain, domain) for domain in valid_domains]\n",
    "            with tqdm(total=total_domains) as pbar: # Créer une barre de progression \n",
    "                for future in concurrent.futures.as_completed(futures): \n",
    "                    if valid_domain := future.result(): # Écrire les noms de domaine valides dans un nouveau fichier\n",
    "                        f.write(valid_domain + '\\n')\n",
    "                    pbar.update() # Mettre à jour la barre de progression pour refléter l'avancement\n",
    "                    \n",
    "def test_domain(domain):  \n",
    "    '''Définition de la fonction pour tester la validité du nom de domaine'''\n",
    "    \n",
    "    if domain.startswith('https://www.'):\n",
    "        return domain\n",
    "    try:\n",
    "        with requests.head(domain, timeout=5) as response: # faire une requête HTTP HEAD \n",
    "            if response.status_code == 200:\n",
    "                return domain\n",
    "    except Exception:\n",
    "        pass\n",
    "\n",
    "if __name__ == '__main__':\n",
    "    get_valid_domains('news.txt', 'urls_news.txt')\n"
   ]
  },
  {
   "cell_type": "code",
   "execution_count": null,
   "metadata": {},
   "outputs": [],
   "source": [
    "# unique\n",
    "import re\n",
    "import requests\n",
    "\n",
    "def get_valid_domains(file_name, new_file_name):\n",
    "    unique_domains = set()\n",
    "    for line in open(file_name):\n",
    "        # Supprimer les caractères spéciaux en début et fin de ligne\n",
    "        line = line.strip()\n",
    "\n",
    "        # Vérifier si le nom de domaine commence par \"www\" ou a une structure de la forme \"mot.mot\"\n",
    "        if line.startswith('www.') or re.match(r'^\\w+\\.\\w+$', line):\n",
    "            # Ajouter \"https://\" devant chaque nom de domaine sélectionné\n",
    "            domain = f\"https://{line}\"\n",
    "\n",
    "            # Effectuer une requête HTTP sur chaque nom de domaine sélectionné\n",
    "            try:\n",
    "                response = requests.get(domain)\n",
    "            except Exception:\n",
    "                continue\n",
    "\n",
    "            # Vérifier si le statut de réponse HTTP est 200\n",
    "            if (\n",
    "                response.status_code == 200\n",
    "                and response.content not in unique_domains\n",
    "            ):\n",
    "                unique_domains.add(response.content)\n",
    "                # Écrire les noms de domaine valides dans un nouveau fichier\n",
    "                with open(new_file_name, 'a') as f:\n",
    "                    f.write(domain + '\\n')\n",
    "\n",
    "\n",
    "if __name__ == '__main__':\n",
    "    get_valid_domains('news.txt', 'urls_news.txt')\n"
   ]
  }
 ],
 "metadata": {
  "kernelspec": {
   "display_name": "Python 3.10.6 64-bit",
   "language": "python",
   "name": "python3"
  },
  "language_info": {
   "codemirror_mode": {
    "name": "ipython",
    "version": 3
   },
   "file_extension": ".py",
   "mimetype": "text/x-python",
   "name": "python",
   "nbconvert_exporter": "python",
   "pygments_lexer": "ipython3",
   "version": "3.10.6"
  },
  "orig_nbformat": 4,
  "vscode": {
   "interpreter": {
    "hash": "916dbcbb3f70747c44a77c7bcd40155683ae19c65e1c03b4aa3499c5328201f1"
   }
  }
 },
 "nbformat": 4,
 "nbformat_minor": 2
}
